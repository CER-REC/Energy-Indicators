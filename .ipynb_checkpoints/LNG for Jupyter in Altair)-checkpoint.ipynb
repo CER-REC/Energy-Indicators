{
 "cells": [
  {
   "cell_type": "code",
   "execution_count": 5,
   "metadata": {},
   "outputs": [],
   "source": [
    "import altair as alt\n",
    "import pandas as pd\n"
   ]
  },
  {
   "cell_type": "code",
   "execution_count": 8,
   "metadata": {},
   "outputs": [],
   "source": [
    "lng_imports_url = 'https://www.cer-rec.gc.ca/open/imports-exports/liquefied-natural-gas-exports-and-imports-detail.csv'\n",
    "df = pd.read_csv(lng_imports_url, encoding = 'ISO-8859-1')\n",
    "df = df[(df['Mode of Transportation'] == 'Marine') & (df['Flow'] == 'Imports')]\n",
    "df = df[['Period', 'Country of Origin', 'Volume (Gas Equivalent) (MCF)', 'Vessel']]#.reset_index(drop =True)\n",
    "df['Period'] = pd.to_datetime(df['Period'], format = '%Y-%m-%d')\n",
    "df['number of days in month'] = df['Period'].dt.daysinmonth\n",
    "df['Bcf/d'] = df['Volume (Gas Equivalent) (MCF)'] / df['number of days in month'] /1000000 \n",
    "df = df.set_index('Period').drop(['number of days in month'], axis = 1)\n",
    "df = df[df.index.year >= 2016].reset_index()\n",
    "columns = ['Import Date', 'Exporting Country', 'Bcf', 'Vessel', 'Bcf/d']\n",
    "df.columns = columns\n",
    "df['Bcf'] = (df['Bcf']/1000000).round(2)\n",
    "df['Bcf/d'] = (df['Bcf/d']).round(2)"
   ]
  },
  {
   "cell_type": "code",
   "execution_count": 10,
   "metadata": {},
   "outputs": [],
   "source": [
    "alt.Chart(df, title = 'Monthly LNG imports to Canada').mark_bar(\n",
    "    size=18\n",
    " ).encode(\n",
    "    x='Import Date:T',\n",
    "    y='Bcf/d:Q', \n",
    "    color='Exporting Country',\n",
    "    tooltip=['Bcf/d','Bcf', 'Exporting Country', 'Import Date', 'Vessel']\n",
    ").properties(\n",
    "    width=760,\n",
    "    height=300\n",
    ").interactive().configure_axis(\n",
    "    labelFontSize=13,\n",
    "    titleFontSize=13)\n"
   ]
  },
  {
   "cell_type": "code",
   "execution_count": null,
   "metadata": {},
   "outputs": [],
   "source": []
  }
 ],
 "metadata": {
  "kernelspec": {
   "display_name": "Python 3",
   "language": "python",
   "name": "python3"
  },
  "language_info": {
   "codemirror_mode": {
    "name": "ipython",
    "version": 3
   },
   "file_extension": ".py",
   "mimetype": "text/x-python",
   "name": "python",
   "nbconvert_exporter": "python",
   "pygments_lexer": "ipython3",
   "version": "3.6.5"
  }
 },
 "nbformat": 4,
 "nbformat_minor": 2
}
